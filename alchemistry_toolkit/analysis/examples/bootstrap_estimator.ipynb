{
 "cells": [
  {
   "cell_type": "markdown",
   "id": "protective-mouse",
   "metadata": {},
   "source": [
    "# Free energy calculations from $\\lambda$-metadynamics using bootstrapping"
   ]
  },
  {
   "cell_type": "markdown",
   "id": "addressed-acting",
   "metadata": {},
   "source": [
    "In this notebook, we will break down `bootstrap_estimator.py` to show how we use bootstrapping to calculate the free energy differences and their uncertainties from $\\lambda$-metadynamics. We will not go over all the functions but just the most important ones for helping the user understand the details of `bootstrap_estimator.py`. Note that "
   ]
  },
  {
   "cell_type": "code",
   "execution_count": 146,
   "id": "executed-cotton",
   "metadata": {},
   "outputs": [],
   "source": [
    "import os\n",
    "import sys\n",
    "import time\n",
    "import sparse\n",
    "import plumed\n",
    "import pandas as pd\n",
    "import numpy as np\n",
    "import matplotlib.pyplot as plt\n",
    "from matplotlib import rc\n",
    "from scipy.sparse import csr_matrix\n",
    "from prettytable import PrettyTable"
   ]
  },
  {
   "cell_type": "code",
   "execution_count": 174,
   "id": "excellent-vitamin",
   "metadata": {},
   "outputs": [],
   "source": [
    "def block_bootstrap(traj, n_blocks, dt, file_path, B, T=298.15, truncate=0, CV='lambda'):\n",
    "    \"\"\"\n",
    "    Calculates the free energy difference and its uncertainty from an\n",
    "    alchemical metadynamics using block bootstrp.\n",
    "\n",
    "    Parameters\n",
    "    ----------\n",
    "    traj       (PlumedDataFrame): The trajectory data read from a COLVAR file.\n",
    "    n_blocks   (int): The number of blocks.\n",
    "    dt         (float): STRIDE in ps\n",
    "    file_path  (str): The path of the output file fes*dat\n",
    "    B          (int): The number of bootstrap iterations\n",
    "    T          (float): The simulation temperature.\n",
    "    truncate    (float): The fraction of the time series to be truncated.\n",
    "\n",
    "    Returns\n",
    "    -------\n",
    "    df         (float): The free energy difference between the coupled and uncoupled state.\n",
    "    df_err     (float): The uncertainty of the free energy difference\n",
    "    \"\"\"\n",
    "    k = 1.38064852E-23   # Boltzmann constant\n",
    "    N_a = 6.02214076E23  # Avogadro's number\n",
    "    kT = k * T * N_a / 1000  # kT in kJ/mol\n",
    "\n",
    "    n = int(len(traj) * (1 - truncate))   # number of data points considered\n",
    "    # make sure the number of frames is a multiple of nblocks (discard the first few frames)\n",
    "    n = (n // n_blocks) * n_blocks\n",
    "    b_size = n / np.array(n_blocks) * dt  # units: ps\n",
    "    bias = np.array(traj[\"metad.bias\"])\n",
    "    bias -= np.max(bias)  # avoid overflows\n",
    "    # shape: (nblocks, nframes in one block), weight for each point\n",
    "    w = np.exp(bias / kT)[-n:].reshape((n_blocks, -1))\n",
    "\n",
    "    fes_file = open(file_path, 'w')\n",
    "    fes_file.write(f'{CV}    f             f_err\\n')\n",
    "    isState, pop, fes, fes_err = [], [], [], []\n",
    "    for i in range(int(np.max(traj[f\"{CV}\"])) + 1):\n",
    "        # 1 if in state i\n",
    "        isState.append(np.int_(traj[f\"{CV}\"] == i)\n",
    "                       [-n:].reshape((n_blocks, -1)))\n",
    "        # draw samples from np.arange(n_blocks), size refers the output size\n",
    "        boot = np.random.choice(n_blocks, size=(B, n_blocks))\n",
    "        # isState[boot]: 3D array, shape of pop: (B,)\n",
    "        pop.append(np.average(isState[i][boot].astype('float16'), axis=(1, 2), weights=w[boot]))\n",
    "        #A = np.average(isState[i][boot].astype('float16') * w[boot].astype('float16'))\n",
    "        #pop.append(np.average(A, axis=(1,2)))\n",
    "        #pop.append((coo_matrix(isState[i][boot]).mutiply(coo_matrix(w[boot].astype('float16')))).mean(axis=(1, 2)))\n",
    "        #print(w[boot].shape)\n",
    "        #print(isState[i][boot].astype(bool))\n",
    "        #print(w[boot][isState[i][boot].astype(bool)].shape)\n",
    "        print(w.shape)\n",
    "        print(boot.shape)\n",
    "        print(w[boot].shape)\n",
    "        print(isState[i][boot].nbytes)\n",
    "        print(isState[i][boot].astype(bool).nbytes)\n",
    "        print(sparse.COO(isState[i][boot]))\n",
    "        print(sparse.COO(isState[i][boot]).size)\n",
    "        print(sparse.COO(isState[i][boot].astype(bool)))\n",
    "        print(sparse.COO(isState[i][boot].astype(bool)).size)\n",
    "        #print(np.ma.array(w[boot], mask=[isState[i][boot].astype(bool)]).shape)\n",
    "        #print(np.ma.array(w[boot], mask=[isState[i][boot].astype(bool)]))\n",
    "        pop.append(np.average(isState[i][boot].astype(bool), axis=(1, 2), weights=w[boot]))\n",
    "        fes_boot = np.log(pop[i])\n",
    "        fes.append(np.log(np.average(isState[i], weights=w)))\n",
    "        if np.sum(np.isinf(fes_boot)) > 0:   # in case that there are zeros in pop[i]\n",
    "            warn_str = f'{np.sum(np.isinf(fes_boot))} out of {B} bootstrap iterations had 0 probability.'\n",
    "            print('=' * int((len(warn_str) - 9 ) / 2) + ' Warning ' + '=' * int((len(warn_str) - 9) / 2))\n",
    "            print(warn_str)\n",
    "            print('=' * len(warn_str))\n",
    "            fes_boot[np.isinf(fes_boot)] = float('nan')  # replace inf or -inf with nan\n",
    "        fes_err.append(np.nanstd(fes_boot))   # ignore nan when calculating std\n",
    "\n",
    "        # Write fes*dat\n",
    "        fes_file.write(f'  {i}      {fes[-1]: .6f}    {fes_err[-1]: .6f}\\n')\n",
    "\n",
    "    # Free energy difference (kT) between the coupled and uncoupled states\n",
    "    df_boot = np.log(pop[0]/pop[-1])\n",
    "    popA0 = np.average(isState[0], weights=w)  # coupled state\n",
    "    popB0 = np.average(isState[-1], weights=w)\n",
    "    df = np.log(popA0 / popB0)\n",
    "    if np.sum(np.isinf(df_boot)) > 0:   # in case that there are zeros in popA0/popB0\n",
    "        df_boot[np.isinf(df_boot)] = float('nan')  # replace inf or -inf with nan\n",
    "    df_err = np.nanstd(df_boot)    # ignore nan when calculating std\n",
    "\n",
    "    return df, df_err"
   ]
  },
  {
   "cell_type": "code",
   "execution_count": 175,
   "id": "infectious-election",
   "metadata": {},
   "outputs": [],
   "source": [
    "def average_bias(hills, avg_frac):\n",
    "    \"\"\"\n",
    "    Averages the bias over a certain last portion of the simulation. \n",
    "\n",
    "    Parameters\n",
    "    ----------\n",
    "    hills     (PlumeDataFrame): The data read from HILLS. \n",
    "    avg_frac  (int): The fraction of the simulation that the data will be averaged when reweighting.\n",
    "\n",
    "    Returns\n",
    "    ----------\n",
    "    hills_avg (PlumedDataFrame): The time-averaged bias.\n",
    "    \"\"\"\n",
    "    n0 = int(len(hills) * (1 - avg_frac))   # number of data points considered\n",
    "    # the weights for the first n0 points are 1\n",
    "    w = np.hstack((np.ones(n0), np.linspace(1, 0, len(hills) - n0)))\n",
    "    hills_avg = hills.copy()\n",
    "    hills_avg.height *= w\n",
    "    return hills_avg"
   ]
  },
  {
   "cell_type": "markdown",
   "id": "institutional-sherman",
   "metadata": {},
   "source": [
    "## Step 1: Setting up input parameters and clean up the directory"
   ]
  },
  {
   "cell_type": "code",
   "execution_count": 176,
   "id": "lovely-heath",
   "metadata": {},
   "outputs": [],
   "source": [
    "%%bash\n",
    "#rm COLVAR_SUM_BIAS\n",
    "#rm bck.0.COLVAR_SUM_BIAS\n",
    "#rm -r FES"
   ]
  },
  {
   "cell_type": "code",
   "execution_count": 177,
   "id": "cosmetic-canada",
   "metadata": {},
   "outputs": [],
   "source": [
    "np.random.seed(1994)\n",
    "folder ='./'\n",
    "p_input = folder + 'plumed_sum_bias.dat'\n",
    "colvar = folder + 'COLVAR_SUM_BIAS'\n",
    "hills = folder + 'HILLS_2D'\n",
    "n_blocks = [20]\n",
    "B = 200   # number of bootstrap iterations\n",
    "T = 298.15  \n",
    "truncate = 0.5\n",
    "avg_frac = 0.2\n",
    "factor_s = 0.02"
   ]
  },
  {
   "cell_type": "code",
   "execution_count": 178,
   "id": "velvet-onion",
   "metadata": {},
   "outputs": [],
   "source": [
    "def read_plumed_output(plumed_output):\n",
    "    \"\"\"\n",
    "    Parameters\n",
    "    ----------\n",
    "    plumed_output (str): The filename of the plumed output (such as HILLS or COLVAR files) to be read\n",
    "    \"\"\"\n",
    "    data_original = plumed.read_as_pandas(plumed_output)\n",
    "    data = data_original[~data_original[\"time\"].duplicated(keep='last')]  # deduplicate time frames\n",
    "    data = data.dropna()        # drop N/A in case that there is any\n",
    "    data = data.reset_index()   # reset the index of the data frame, after this an column \"index\" will be added\n",
    "    data = data.drop(columns=[\"index\"])    # drop the index column\n",
    "    if len(data) == len(data_original):\n",
    "        pass    # the plumed output file won't be modified and there will be no backup\n",
    "    else:\n",
    "        # the data in the plumed output file will be replaced with the deduplicated time series\n",
    "        backup = plumed_output + '_backup'\n",
    "        os.system(f'mv {plumed_output} {backup}')\n",
    "        plumed.write_pandas(data, plumed_output)  \n",
    "    return data"
   ]
  },
  {
   "cell_type": "markdown",
   "id": "great-belarus",
   "metadata": {},
   "source": [
    "## Step 2: Run the plumed driver for reweighting"
   ]
  },
  {
   "cell_type": "code",
   "execution_count": 179,
   "id": "uniform-outreach",
   "metadata": {},
   "outputs": [
    {
     "name": "stdout",
     "output_type": "stream",
     "text": [
      "theta: READ FILE=COLVAR VALUES=theta IGNORE_TIME IGNORE_FORCES\n",
      "lambda: READ FILE=COLVAR VALUES=lambda IGNORE_TIME IGNORE_FORCES\n",
      "\n",
      "METAD ...\n",
      "ARG=theta,lambda \n",
      "SIGMA=0.5,0.0001     # small SIGMA ensure that the Gaussian approaximate a delta function\n",
      "HEIGHT=0\n",
      "PACE=5000000        # should be nstexpanded\n",
      "GRID_MIN=-pi,0   # index of alchemical states starts from 0\n",
      "GRID_MAX=pi,8    # we have 6 states in total\n",
      "GRID_BIN=100,8\n",
      "TEMP=298\n",
      "BIASFACTOR=10\n",
      "LABEL=metad    \n",
      "FILE=HILLS_2D_modified\n",
      "RESTART=YES\n",
      "... METAD\n",
      "\n",
      "PRINT STRIDE=1 ARG=theta,lambda,metad.bias FILE=COLVAR_SUM_BIAS\n"
     ]
    }
   ],
   "source": [
    "%%bash\n",
    "cat lambda_MetaD_data/plumed_sum_bias.dat"
   ]
  },
  {
   "cell_type": "code",
   "execution_count": 180,
   "id": "foreign-finger",
   "metadata": {},
   "outputs": [
    {
     "name": "stderr",
     "output_type": "stream",
     "text": [
      "<ipython-input-178-3d3c39aa6908>:7: UserWarning: cannot load PLUMED instance, conversions will not be available\n",
      "  data_original = plumed.read_as_pandas(plumed_output)\n",
      "<ipython-input-180-82aafd29ff69>:3: UserWarning: cannot load PLUMED instance, conversions will not be available\n",
      "  hills_avg = average_bias(plumed.read_as_pandas(hills), avg_frac)\n"
     ]
    }
   ],
   "source": [
    "# hills_data = read_plumed_output('HILLS_2D')\n",
    "colvar_data = read_plumed_output(folder + 'COLVAR')\n",
    "hills_avg = average_bias(plumed.read_as_pandas(hills), avg_frac)\n",
    "plumed.write_pandas(hills_avg, hills + \"_modified\")"
   ]
  },
  {
   "cell_type": "code",
   "execution_count": 181,
   "id": "intelligent-cycle",
   "metadata": {},
   "outputs": [
    {
     "name": "stdout",
     "output_type": "stream",
     "text": [
      "PLUMED: PLUMED is starting\n",
      "PLUMED: Version: 2.8.0-dev (git: 63008b018) compiled on Nov 21 2020 at 02:44:56\n",
      "PLUMED: Please cite these papers when using PLUMED [1][2]\n",
      "PLUMED: For further information see the PLUMED web page at http://www.plumed.org\n",
      "PLUMED: Root: /Users/Wei-TseHsu/Documents/Software/PLUMED/plumed2/\n",
      "PLUMED: For installed feature, see /Users/Wei-TseHsu/Documents/Software/PLUMED/plumed2//src/config/config.txt\n",
      "PLUMED: Molecular dynamics engine: driver\n",
      "PLUMED: Precision of reals: 8\n",
      "PLUMED: Running over 1 node\n",
      "PLUMED: Number of threads: 1\n",
      "PLUMED: Cache line size: 512\n",
      "PLUMED: Number of atoms: 0\n",
      "PLUMED: File suffix: \n",
      "PLUMED: FILE: plumed_sum_bias.dat\n",
      "PLUMED: Action READ\n",
      "PLUMED:   with label theta\n",
      "PLUMED:   with stride 1\n",
      "PLUMED:   reading data from file COLVAR\n",
      "PLUMED:   reading value theta and storing as theta\n",
      "PLUMED: Action READ\n",
      "PLUMED:   with label lambda\n",
      "PLUMED:   with stride 1\n",
      "PLUMED:   reading data from file COLVAR\n",
      "PLUMED:   reading value lambda and storing as lambda\n",
      "PLUMED: Action METAD\n",
      "PLUMED:   with label metad\n",
      "PLUMED:   with arguments theta lambda\n",
      "PLUMED:   added component to this action:  metad.bias \n",
      "PLUMED:   Gaussian width  0.500000 0.000100  Gaussian height 0.000000\n",
      "PLUMED:   Gaussian deposition pace 50000000\n",
      "PLUMED:   Gaussian file HILLS_2D_modified\n",
      "PLUMED:   Well-Tempered Bias Factor 10.000000\n",
      "PLUMED:   Hills relaxation time (tau) inf\n",
      "PLUMED:   KbT 2.477710\n",
      "PLUMED:   Grid min -pi 0\n",
      "PLUMED:   Grid max pi 8\n",
      "PLUMED:   Grid bin 100 8\n",
      "PLUMED:   Grid uses spline interpolation\n",
      "PLUMED:   WARNING: Using a METAD with a Grid Spacing larger than half of the Gaussians width (SIGMA) can produce artifacts\n",
      "PLUMED:   Restarting from HILLS_2D_modified:      20000 Gaussians read\n",
      "PLUMED:   Bibliography [3][4]\n",
      "PLUMED: Action PRINT\n",
      "PLUMED:   with label @3\n",
      "PLUMED:   with stride 1\n",
      "PLUMED:   with arguments theta lambda metad.bias\n",
      "PLUMED:   on file COLVAR_SUM_BIAS\n",
      "PLUMED:   with format  %f\n",
      "PLUMED: END FILE: plumed_sum_bias.dat\n",
      "PLUMED: Timestep: 1.000000\n",
      "PLUMED: KbT has not been set by the MD engine\n",
      "PLUMED: It should be set by hand where needed\n",
      "PLUMED: Relevant bibliography:\n",
      "PLUMED:   [1] The PLUMED consortium, Nat. Methods 16, 670 (2019)\n",
      "PLUMED:   [2] Tribello, Bonomi, Branduardi, Camilloni, and Bussi, Comput. Phys. Commun. 185, 604 (2014)\n",
      "PLUMED:   [3] Laio and Parrinello, PNAS 99, 12562 (2002)\n",
      "PLUMED:   [4] Barducci, Bussi, and Parrinello, Phys. Rev. Lett. 100, 020603 (2008)\n",
      "PLUMED: Please read and cite where appropriate!\n",
      "PLUMED: Finished setup\n",
      "PLUMED:                                               Cycles        Total      Average      Minimum      Maximum\n",
      "PLUMED:                                                    1    33.464828    33.464828    33.464828    33.464828\n",
      "PLUMED: 1 Prepare dependencies                       1000001     1.129791     0.000001     0.000001     0.000845\n",
      "PLUMED: 2 Sharing data                               1000001     0.053949     0.000000     0.000000     0.000084\n",
      "PLUMED: 3 Waiting for data                           1000001     0.054556     0.000000     0.000000     0.000073\n",
      "PLUMED: 4 Calculating (forward loop)                 1000001     8.394658     0.000008     0.000006     0.007712\n",
      "PLUMED: 5 Applying (backward loop)                   1000001     0.800751     0.000001     0.000001     0.007439\n",
      "PLUMED: 6 Update                                     1000001    18.789026     0.000019     0.000013     0.124066\n"
     ]
    }
   ],
   "source": [
    "%%bash\n",
    "source /usr/local/gromacs/bin/GMXRC\n",
    "source /Users/Wei-TseHsu/Documents/Software/PLUMED/plumed2/sourceme.sh\n",
    "plumed driver --plumed plumed_sum_bias.dat --noatoms"
   ]
  },
  {
   "cell_type": "markdown",
   "id": "south-skirt",
   "metadata": {},
   "source": [
    "## Step 3: Calculate the free energy surface and its uncertainty"
   ]
  },
  {
   "cell_type": "code",
   "execution_count": 182,
   "id": "constitutional-gathering",
   "metadata": {},
   "outputs": [
    {
     "name": "stderr",
     "output_type": "stream",
     "text": [
      "<ipython-input-182-a8bb8a83d1e7>:6: UserWarning: cannot load PLUMED instance, conversions will not be available\n",
      "  traj = plumed.read_as_pandas(colvar)\n"
     ]
    },
    {
     "name": "stdout",
     "output_type": "stream",
     "text": [
      "(20, 25000)\n",
      "(200, 20)\n",
      "(200, 20, 25000)\n",
      "800000000\n",
      "100000000\n",
      "<COO: shape=(200, 20, 25000), dtype=int64, nnz=37061204, fill_value=0>\n",
      "100000000\n",
      "<COO: shape=(200, 20, 25000), dtype=bool, nnz=37061204, fill_value=False>\n",
      "100000000\n",
      "(20, 25000)\n",
      "(200, 20)\n",
      "(200, 20, 25000)\n",
      "800000000\n",
      "100000000\n",
      "<COO: shape=(200, 20, 25000), dtype=int64, nnz=16927112, fill_value=0>\n",
      "100000000\n",
      "<COO: shape=(200, 20, 25000), dtype=bool, nnz=16927112, fill_value=False>\n",
      "100000000\n",
      "(20, 25000)\n",
      "(200, 20)\n",
      "(200, 20, 25000)\n",
      "800000000\n",
      "100000000\n",
      "<COO: shape=(200, 20, 25000), dtype=int64, nnz=9218973, fill_value=0>\n",
      "100000000\n",
      "<COO: shape=(200, 20, 25000), dtype=bool, nnz=9218973, fill_value=False>\n",
      "100000000\n",
      "(20, 25000)\n",
      "(200, 20)\n",
      "(200, 20, 25000)\n",
      "800000000\n",
      "100000000\n",
      "<COO: shape=(200, 20, 25000), dtype=int64, nnz=6953251, fill_value=0>\n",
      "100000000\n",
      "<COO: shape=(200, 20, 25000), dtype=bool, nnz=6953251, fill_value=False>\n",
      "100000000\n",
      "(20, 25000)\n",
      "(200, 20)\n",
      "(200, 20, 25000)\n",
      "800000000\n",
      "100000000\n",
      "<COO: shape=(200, 20, 25000), dtype=int64, nnz=5475819, fill_value=0>\n",
      "100000000\n",
      "<COO: shape=(200, 20, 25000), dtype=bool, nnz=5475819, fill_value=False>\n",
      "100000000\n"
     ]
    },
    {
     "ename": "KeyboardInterrupt",
     "evalue": "",
     "output_type": "error",
     "traceback": [
      "\u001b[0;31m---------------------------------------------------------------------------\u001b[0m",
      "\u001b[0;31mKeyboardInterrupt\u001b[0m                         Traceback (most recent call last)",
      "\u001b[0;32m<ipython-input-182-a8bb8a83d1e7>\u001b[0m in \u001b[0;36m<module>\u001b[0;34m\u001b[0m\n\u001b[1;32m     14\u001b[0m     \u001b[0;32melse\u001b[0m\u001b[0;34m:\u001b[0m\u001b[0;34m\u001b[0m\u001b[0;34m\u001b[0m\u001b[0m\n\u001b[1;32m     15\u001b[0m         \u001b[0mfes_path\u001b[0m \u001b[0;34m=\u001b[0m \u001b[0;34mf'{folder}FES/fes_bsize_{b_sizes[i]}.dat'\u001b[0m\u001b[0;34m\u001b[0m\u001b[0;34m\u001b[0m\u001b[0m\n\u001b[0;32m---> 16\u001b[0;31m     df_results.append(block_bootstrap(\n\u001b[0m\u001b[1;32m     17\u001b[0m         traj, n_blocks[i], factor_s, fes_path, B, T, truncate, 'lambda'))\n",
      "\u001b[0;32m<ipython-input-174-f81a26fb1ba8>\u001b[0m in \u001b[0;36mblock_bootstrap\u001b[0;34m(traj, n_blocks, dt, file_path, B, T, truncate, CV)\u001b[0m\n\u001b[1;32m     60\u001b[0m         \u001b[0;31m#print(np.ma.array(w[boot], mask=[isState[i][boot].astype(bool)]).shape)\u001b[0m\u001b[0;34m\u001b[0m\u001b[0;34m\u001b[0m\u001b[0;34m\u001b[0m\u001b[0m\n\u001b[1;32m     61\u001b[0m         \u001b[0;31m#print(np.ma.array(w[boot], mask=[isState[i][boot].astype(bool)]))\u001b[0m\u001b[0;34m\u001b[0m\u001b[0;34m\u001b[0m\u001b[0;34m\u001b[0m\u001b[0m\n\u001b[0;32m---> 62\u001b[0;31m         \u001b[0mpop\u001b[0m\u001b[0;34m.\u001b[0m\u001b[0mappend\u001b[0m\u001b[0;34m(\u001b[0m\u001b[0mnp\u001b[0m\u001b[0;34m.\u001b[0m\u001b[0maverage\u001b[0m\u001b[0;34m(\u001b[0m\u001b[0misState\u001b[0m\u001b[0;34m[\u001b[0m\u001b[0mi\u001b[0m\u001b[0;34m]\u001b[0m\u001b[0;34m[\u001b[0m\u001b[0mboot\u001b[0m\u001b[0;34m]\u001b[0m\u001b[0;34m.\u001b[0m\u001b[0mastype\u001b[0m\u001b[0;34m(\u001b[0m\u001b[0mbool\u001b[0m\u001b[0;34m)\u001b[0m\u001b[0;34m,\u001b[0m \u001b[0maxis\u001b[0m\u001b[0;34m=\u001b[0m\u001b[0;34m(\u001b[0m\u001b[0;36m1\u001b[0m\u001b[0;34m,\u001b[0m \u001b[0;36m2\u001b[0m\u001b[0;34m)\u001b[0m\u001b[0;34m,\u001b[0m \u001b[0mweights\u001b[0m\u001b[0;34m=\u001b[0m\u001b[0mw\u001b[0m\u001b[0;34m[\u001b[0m\u001b[0mboot\u001b[0m\u001b[0;34m]\u001b[0m\u001b[0;34m)\u001b[0m\u001b[0;34m)\u001b[0m\u001b[0;34m\u001b[0m\u001b[0;34m\u001b[0m\u001b[0m\n\u001b[0m\u001b[1;32m     63\u001b[0m         \u001b[0mfes_boot\u001b[0m \u001b[0;34m=\u001b[0m \u001b[0mnp\u001b[0m\u001b[0;34m.\u001b[0m\u001b[0mlog\u001b[0m\u001b[0;34m(\u001b[0m\u001b[0mpop\u001b[0m\u001b[0;34m[\u001b[0m\u001b[0mi\u001b[0m\u001b[0;34m]\u001b[0m\u001b[0;34m)\u001b[0m\u001b[0;34m\u001b[0m\u001b[0;34m\u001b[0m\u001b[0m\n\u001b[1;32m     64\u001b[0m         \u001b[0mfes\u001b[0m\u001b[0;34m.\u001b[0m\u001b[0mappend\u001b[0m\u001b[0;34m(\u001b[0m\u001b[0mnp\u001b[0m\u001b[0;34m.\u001b[0m\u001b[0mlog\u001b[0m\u001b[0;34m(\u001b[0m\u001b[0mnp\u001b[0m\u001b[0;34m.\u001b[0m\u001b[0maverage\u001b[0m\u001b[0;34m(\u001b[0m\u001b[0misState\u001b[0m\u001b[0;34m[\u001b[0m\u001b[0mi\u001b[0m\u001b[0;34m]\u001b[0m\u001b[0;34m,\u001b[0m \u001b[0mweights\u001b[0m\u001b[0;34m=\u001b[0m\u001b[0mw\u001b[0m\u001b[0;34m)\u001b[0m\u001b[0;34m)\u001b[0m\u001b[0;34m)\u001b[0m\u001b[0;34m\u001b[0m\u001b[0;34m\u001b[0m\u001b[0m\n",
      "\u001b[0;32m<__array_function__ internals>\u001b[0m in \u001b[0;36maverage\u001b[0;34m(*args, **kwargs)\u001b[0m\n",
      "\u001b[0;32m/usr/local/lib/python3.9/site-packages/numpy/lib/function_base.py\u001b[0m in \u001b[0;36maverage\u001b[0;34m(a, axis, weights, returned)\u001b[0m\n\u001b[1;32m    410\u001b[0m                 \"Weights sum to zero, can't be normalized\")\n\u001b[1;32m    411\u001b[0m \u001b[0;34m\u001b[0m\u001b[0m\n\u001b[0;32m--> 412\u001b[0;31m         \u001b[0mavg\u001b[0m \u001b[0;34m=\u001b[0m \u001b[0mnp\u001b[0m\u001b[0;34m.\u001b[0m\u001b[0mmultiply\u001b[0m\u001b[0;34m(\u001b[0m\u001b[0ma\u001b[0m\u001b[0;34m,\u001b[0m \u001b[0mwgt\u001b[0m\u001b[0;34m,\u001b[0m \u001b[0mdtype\u001b[0m\u001b[0;34m=\u001b[0m\u001b[0mresult_dtype\u001b[0m\u001b[0;34m)\u001b[0m\u001b[0;34m.\u001b[0m\u001b[0msum\u001b[0m\u001b[0;34m(\u001b[0m\u001b[0maxis\u001b[0m\u001b[0;34m)\u001b[0m\u001b[0;34m/\u001b[0m\u001b[0mscl\u001b[0m\u001b[0;34m\u001b[0m\u001b[0;34m\u001b[0m\u001b[0m\n\u001b[0m\u001b[1;32m    413\u001b[0m \u001b[0;34m\u001b[0m\u001b[0m\n\u001b[1;32m    414\u001b[0m     \u001b[0;32mif\u001b[0m \u001b[0mreturned\u001b[0m\u001b[0;34m:\u001b[0m\u001b[0;34m\u001b[0m\u001b[0;34m\u001b[0m\u001b[0m\n",
      "\u001b[0;31mKeyboardInterrupt\u001b[0m: "
     ]
    }
   ],
   "source": [
    "if len(n_blocks) == 1:\n",
    "    multi_b_size = False\n",
    "    n_blocks = n_blocks\n",
    "else:\n",
    "    multi_b_size = True\n",
    "traj = plumed.read_as_pandas(colvar)\n",
    "df_results = []\n",
    "n = int(len(traj) * (1 - truncate))  # number of data points considered\n",
    "n = (n // np.array(n_blocks)) * n_blocks\n",
    "b_sizes = n / np.array(n_blocks) * factor_s  # units: ps\n",
    "for i in range(len(n_blocks)):\n",
    "    if multi_b_size is False:  # only one fes_*.dat\n",
    "        fes_path = f'{folder}/fes_truncate_{truncate}_bsize_{b_sizes[i]}_avg_{avg_frac}.dat'\n",
    "    else:\n",
    "        fes_path = f'{folder}FES/fes_bsize_{b_sizes[i]}.dat'\n",
    "    df_results.append(block_bootstrap(\n",
    "        traj, n_blocks[i], factor_s, fes_path, B, T, truncate, 'lambda'))"
   ]
  },
  {
   "cell_type": "code",
   "execution_count": 59,
   "id": "novel-scope",
   "metadata": {},
   "outputs": [
    {
     "ename": "TypeError",
     "evalue": "unsupported operand type(s) for //: 'int' and 'list'",
     "output_type": "error",
     "traceback": [
      "\u001b[0;31m---------------------------------------------------------------------------\u001b[0m",
      "\u001b[0;31mTypeError\u001b[0m                                 Traceback (most recent call last)",
      "\u001b[0;32m<ipython-input-59-ecac3eac0a76>\u001b[0m in \u001b[0;36m<module>\u001b[0;34m\u001b[0m\n\u001b[1;32m      1\u001b[0m \u001b[0mn\u001b[0m \u001b[0;34m=\u001b[0m \u001b[0mint\u001b[0m\u001b[0;34m(\u001b[0m\u001b[0mlen\u001b[0m\u001b[0;34m(\u001b[0m\u001b[0mtraj\u001b[0m\u001b[0;34m)\u001b[0m \u001b[0;34m*\u001b[0m \u001b[0;34m(\u001b[0m\u001b[0;36m1\u001b[0m \u001b[0;34m-\u001b[0m \u001b[0mtruncate\u001b[0m\u001b[0;34m)\u001b[0m\u001b[0;34m)\u001b[0m   \u001b[0;31m# number of data points considered\u001b[0m\u001b[0;34m\u001b[0m\u001b[0;34m\u001b[0m\u001b[0m\n\u001b[1;32m      2\u001b[0m \u001b[0;31m# make sure the number of frames is a multiple of nblocks (discard the first few frames)\u001b[0m\u001b[0;34m\u001b[0m\u001b[0;34m\u001b[0m\u001b[0;34m\u001b[0m\u001b[0m\n\u001b[0;32m----> 3\u001b[0;31m \u001b[0mn\u001b[0m \u001b[0;34m=\u001b[0m \u001b[0;34m(\u001b[0m\u001b[0mn\u001b[0m \u001b[0;34m//\u001b[0m \u001b[0mn_blocks\u001b[0m\u001b[0;34m)\u001b[0m \u001b[0;34m*\u001b[0m \u001b[0mn_blocks\u001b[0m\u001b[0;34m\u001b[0m\u001b[0;34m\u001b[0m\u001b[0m\n\u001b[0m\u001b[1;32m      4\u001b[0m \u001b[0mb_size\u001b[0m \u001b[0;34m=\u001b[0m \u001b[0mn\u001b[0m \u001b[0;34m/\u001b[0m \u001b[0mnp\u001b[0m\u001b[0;34m.\u001b[0m\u001b[0marray\u001b[0m\u001b[0;34m(\u001b[0m\u001b[0mn_blocks\u001b[0m\u001b[0;34m)\u001b[0m \u001b[0;34m*\u001b[0m \u001b[0mdt\u001b[0m  \u001b[0;31m# units: ps\u001b[0m\u001b[0;34m\u001b[0m\u001b[0;34m\u001b[0m\u001b[0m\n\u001b[1;32m      5\u001b[0m \u001b[0mbias\u001b[0m \u001b[0;34m=\u001b[0m \u001b[0mnp\u001b[0m\u001b[0;34m.\u001b[0m\u001b[0marray\u001b[0m\u001b[0;34m(\u001b[0m\u001b[0mtraj\u001b[0m\u001b[0;34m[\u001b[0m\u001b[0;34m\"metad.bias\"\u001b[0m\u001b[0;34m]\u001b[0m\u001b[0;34m)\u001b[0m\u001b[0;34m\u001b[0m\u001b[0;34m\u001b[0m\u001b[0m\n",
      "\u001b[0;31mTypeError\u001b[0m: unsupported operand type(s) for //: 'int' and 'list'"
     ]
    }
   ],
   "source": [
    "n = int(len(traj) * (1 - truncate))   # number of data points considered\n",
    "# make sure the number of frames is a multiple of nblocks (discard the first few frames)\n",
    "n = (n // n_blocks) * n_blocks\n",
    "b_size = n / np.array(n_blocks) * dt  # units: ps\n",
    "bias = np.array(traj[\"metad.bias\"])\n",
    "bias -= np.max(bias)  # avoid overflows\n",
    "# shape: (nblocks, nframes in one block), weight for each point\n",
    "w = np.exp(bias / kT)[-n:].reshape((n_blocks, -1))"
   ]
  },
  {
   "cell_type": "code",
   "execution_count": null,
   "id": "legal-contest",
   "metadata": {},
   "outputs": [],
   "source": [
    "dt = 0.02\n",
    "k = 1.38064852E-23   # Boltzmann constant\n",
    "N_a = 6.02214076E23  # Avogadro's number\n",
    "kT = k * T * N_a / 1000  # kT in kJ/mol\n",
    "traj = plumed.read_as_pandas(colvar)\n",
    "n = int(len(traj) * (1 - truncate))   # number of data points considered\n",
    "# make sure the number of frames is a multiple of nblocks (discard the first few frames)\n",
    "n = (n // n_blocks[0]) * n_blocks[0]\n",
    "b_size = n / np.array(n_blocks) * dt  # units: ps\n",
    "bias = np.array(traj[\"metad.bias\"])\n",
    "w = np.exp(bias / kT)[-n:].reshape((n_blocks[0], -1))"
   ]
  },
  {
   "cell_type": "code",
   "execution_count": 46,
   "id": "bearing-register",
   "metadata": {},
   "outputs": [
    {
     "ename": "NameError",
     "evalue": "name 'boot' is not defined",
     "output_type": "error",
     "traceback": [
      "\u001b[0;31m---------------------------------------------------------------------------\u001b[0m",
      "\u001b[0;31mNameError\u001b[0m                                 Traceback (most recent call last)",
      "\u001b[0;32m<ipython-input-46-4c7e70207138>\u001b[0m in \u001b[0;36m<module>\u001b[0;34m\u001b[0m\n\u001b[0;32m----> 1\u001b[0;31m \u001b[0mw\u001b[0m\u001b[0;34m[\u001b[0m\u001b[0mboot\u001b[0m\u001b[0;34m]\u001b[0m\u001b[0;34m\u001b[0m\u001b[0;34m\u001b[0m\u001b[0m\n\u001b[0m",
      "\u001b[0;31mNameError\u001b[0m: name 'boot' is not defined"
     ]
    }
   ],
   "source": [
    "w[boot]"
   ]
  },
  {
   "cell_type": "code",
   "execution_count": 24,
   "id": "exceptional-dealer",
   "metadata": {},
   "outputs": [
    {
     "data": {
      "text/html": [
       "<div>\n",
       "<style scoped>\n",
       "    .dataframe tbody tr th:only-of-type {\n",
       "        vertical-align: middle;\n",
       "    }\n",
       "\n",
       "    .dataframe tbody tr th {\n",
       "        vertical-align: top;\n",
       "    }\n",
       "\n",
       "    .dataframe thead th {\n",
       "        text-align: right;\n",
       "    }\n",
       "</style>\n",
       "<table border=\"1\" class=\"dataframe\">\n",
       "  <thead>\n",
       "    <tr style=\"text-align: right;\">\n",
       "      <th></th>\n",
       "      <th>time</th>\n",
       "      <th>theta</th>\n",
       "      <th>lambda</th>\n",
       "      <th>metad.bias</th>\n",
       "    </tr>\n",
       "  </thead>\n",
       "  <tbody>\n",
       "    <tr>\n",
       "      <th>0</th>\n",
       "      <td>0.0</td>\n",
       "      <td>-3.006085</td>\n",
       "      <td>0.0</td>\n",
       "      <td>113.205556</td>\n",
       "    </tr>\n",
       "    <tr>\n",
       "      <th>1</th>\n",
       "      <td>1.0</td>\n",
       "      <td>3.094475</td>\n",
       "      <td>0.0</td>\n",
       "      <td>113.762690</td>\n",
       "    </tr>\n",
       "    <tr>\n",
       "      <th>2</th>\n",
       "      <td>2.0</td>\n",
       "      <td>-2.923163</td>\n",
       "      <td>0.0</td>\n",
       "      <td>112.806400</td>\n",
       "    </tr>\n",
       "    <tr>\n",
       "      <th>3</th>\n",
       "      <td>3.0</td>\n",
       "      <td>-2.995856</td>\n",
       "      <td>0.0</td>\n",
       "      <td>113.159989</td>\n",
       "    </tr>\n",
       "    <tr>\n",
       "      <th>4</th>\n",
       "      <td>4.0</td>\n",
       "      <td>-3.018957</td>\n",
       "      <td>0.0</td>\n",
       "      <td>113.260142</td>\n",
       "    </tr>\n",
       "    <tr>\n",
       "      <th>...</th>\n",
       "      <td>...</td>\n",
       "      <td>...</td>\n",
       "      <td>...</td>\n",
       "      <td>...</td>\n",
       "    </tr>\n",
       "    <tr>\n",
       "      <th>999996</th>\n",
       "      <td>999996.0</td>\n",
       "      <td>-2.603765</td>\n",
       "      <td>7.0</td>\n",
       "      <td>72.497909</td>\n",
       "    </tr>\n",
       "    <tr>\n",
       "      <th>999997</th>\n",
       "      <td>999997.0</td>\n",
       "      <td>-2.341541</td>\n",
       "      <td>7.0</td>\n",
       "      <td>70.989072</td>\n",
       "    </tr>\n",
       "    <tr>\n",
       "      <th>999998</th>\n",
       "      <td>999998.0</td>\n",
       "      <td>-2.329528</td>\n",
       "      <td>7.0</td>\n",
       "      <td>70.913153</td>\n",
       "    </tr>\n",
       "    <tr>\n",
       "      <th>999999</th>\n",
       "      <td>999999.0</td>\n",
       "      <td>-2.296362</td>\n",
       "      <td>8.0</td>\n",
       "      <td>76.696924</td>\n",
       "    </tr>\n",
       "    <tr>\n",
       "      <th>1000000</th>\n",
       "      <td>1000000.0</td>\n",
       "      <td>-2.217575</td>\n",
       "      <td>7.0</td>\n",
       "      <td>70.218413</td>\n",
       "    </tr>\n",
       "  </tbody>\n",
       "</table>\n",
       "<p>1000001 rows × 4 columns</p>\n",
       "</div>"
      ],
      "text/plain": [
       "              time     theta  lambda  metad.bias\n",
       "0              0.0 -3.006085     0.0  113.205556\n",
       "1              1.0  3.094475     0.0  113.762690\n",
       "2              2.0 -2.923163     0.0  112.806400\n",
       "3              3.0 -2.995856     0.0  113.159989\n",
       "4              4.0 -3.018957     0.0  113.260142\n",
       "...            ...       ...     ...         ...\n",
       "999996    999996.0 -2.603765     7.0   72.497909\n",
       "999997    999997.0 -2.341541     7.0   70.989072\n",
       "999998    999998.0 -2.329528     7.0   70.913153\n",
       "999999    999999.0 -2.296362     8.0   76.696924\n",
       "1000000  1000000.0 -2.217575     7.0   70.218413\n",
       "\n",
       "[1000001 rows x 4 columns]"
      ]
     },
     "execution_count": 24,
     "metadata": {},
     "output_type": "execute_result"
    }
   ],
   "source": [
    "traj"
   ]
  },
  {
   "cell_type": "code",
   "execution_count": 44,
   "id": "hybrid-salmon",
   "metadata": {},
   "outputs": [
    {
     "data": {
      "text/plain": [
       "0.42857142857142855"
      ]
     },
     "execution_count": 44,
     "metadata": {},
     "output_type": "execute_result"
    }
   ],
   "source": [
    "A = np.array([1,0,1,1,0,0,0])\n",
    "np.average(A.astype(bool), weights=np.array([0.1, 0.1, 0.1, 0.1, 0.1, 0.1, 0.1]).astype('float16'))"
   ]
  },
  {
   "cell_type": "code",
   "execution_count": 27,
   "id": "qualified-contamination",
   "metadata": {},
   "outputs": [
    {
     "data": {
      "text/plain": [
       "700000"
      ]
     },
     "execution_count": 27,
     "metadata": {},
     "output_type": "execute_result"
    }
   ],
   "source": [
    "A = np.array(A, dtype=bool)\n",
    "A.nbytes"
   ]
  },
  {
   "cell_type": "code",
   "execution_count": 173,
   "id": "interstate-chart",
   "metadata": {},
   "outputs": [
    {
     "data": {
      "text/plain": [
       "masked_array(data=[1, --, 3, --, --],\n",
       "             mask=[False,  True, False,  True,  True],\n",
       "       fill_value=999999)"
      ]
     },
     "execution_count": 173,
     "metadata": {},
     "output_type": "execute_result"
    }
   ],
   "source": [
    "A = sparse.COO(np.array([1, 2, 3, 4, 5]))\n",
    "B = sparse.COO(np.array([0, 1, 0, 1, 1]))\n",
    "np.ma.array(A.todense(), mask=B.todense())"
   ]
  },
  {
   "cell_type": "code",
   "execution_count": null,
   "id": "mounted-complex",
   "metadata": {},
   "outputs": [],
   "source": []
  },
  {
   "cell_type": "code",
   "execution_count": 33,
   "id": "smoking-saturn",
   "metadata": {},
   "outputs": [
    {
     "data": {
      "text/plain": [
       "array([ True,  True,  True,  True])"
      ]
     },
     "execution_count": 33,
     "metadata": {},
     "output_type": "execute_result"
    }
   ],
   "source": [
    "B = np.array([1,2,3,4])\n",
    "B = np.array(B, dtype=bool)\n",
    "B"
   ]
  },
  {
   "cell_type": "code",
   "execution_count": 30,
   "id": "broken-allergy",
   "metadata": {},
   "outputs": [
    {
     "data": {
      "text/plain": [
       "0.42857142857142855"
      ]
     },
     "execution_count": 30,
     "metadata": {},
     "output_type": "execute_result"
    }
   ],
   "source": [
    "3/7"
   ]
  },
  {
   "cell_type": "code",
   "execution_count": null,
   "id": "elegant-printing",
   "metadata": {},
   "outputs": [],
   "source": [
    "import scipy\n",
    "A = scipy.sparse.coo_matrix(np.random.rand(3, 4))\n",
    "A.toarray()"
   ]
  },
  {
   "cell_type": "code",
   "execution_count": null,
   "id": "amino-relief",
   "metadata": {},
   "outputs": [],
   "source": [
    "A = [1,2,3,4,5]\n",
    "B=[1,2,3,4,5]\n",
    "coo_matrix(A).multiply(coo_matrix(B)).mean()"
   ]
  },
  {
   "cell_type": "code",
   "execution_count": null,
   "id": "pressing-france",
   "metadata": {},
   "outputs": [],
   "source": [
    "np.average(A, weights=B)"
   ]
  },
  {
   "cell_type": "code",
   "execution_count": null,
   "id": "modern-florence",
   "metadata": {},
   "outputs": [],
   "source": [
    "(coo_matrix(A).multiply(coo_matrix(B))/(coo_matrix(B).sum())).sum()"
   ]
  },
  {
   "cell_type": "code",
   "execution_count": null,
   "id": "arbitrary-semiconductor",
   "metadata": {},
   "outputs": [],
   "source": [
    "sparse.COO(np.array(A))"
   ]
  },
  {
   "cell_type": "code",
   "execution_count": 124,
   "id": "pacific-martin",
   "metadata": {},
   "outputs": [],
   "source": [
    "A = np.array([1,2,3,4,5]*100000)\n",
    "#B = np.array([0.1, 0.1, 0.1, 0.2, 0.2])\n",
    "#np.mean(np.multiply(A, B))"
   ]
  },
  {
   "cell_type": "code",
   "execution_count": null,
   "id": "natural-pulse",
   "metadata": {},
   "outputs": [],
   "source": [
    "np.average(A, weights=B)"
   ]
  },
  {
   "cell_type": "code",
   "execution_count": null,
   "id": "ready-bankruptcy",
   "metadata": {},
   "outputs": [],
   "source": [
    "np.sum(np.multiply(A, B))/np.sum(B)"
   ]
  },
  {
   "cell_type": "code",
   "execution_count": 125,
   "id": "moving-solomon",
   "metadata": {},
   "outputs": [
    {
     "data": {
      "text/plain": [
       "500000"
      ]
     },
     "execution_count": 125,
     "metadata": {},
     "output_type": "execute_result"
    }
   ],
   "source": [
    "coo_matrix(A*5).size"
   ]
  },
  {
   "cell_type": "code",
   "execution_count": 169,
   "id": "brazilian-playing",
   "metadata": {},
   "outputs": [
    {
     "data": {
      "text/plain": [
       "7500000"
      ]
     },
     "execution_count": 169,
     "metadata": {},
     "output_type": "execute_result"
    }
   ],
   "source": [
    "np.sum(sparse.COO(A*5))"
   ]
  },
  {
   "cell_type": "code",
   "execution_count": 159,
   "id": "reverse-stone",
   "metadata": {},
   "outputs": [
    {
     "data": {
      "text/plain": [
       "4000000"
      ]
     },
     "execution_count": 159,
     "metadata": {},
     "output_type": "execute_result"
    }
   ],
   "source": [
    "A.nbytes"
   ]
  },
  {
   "cell_type": "code",
   "execution_count": 214,
   "id": "unlikely-isaac",
   "metadata": {},
   "outputs": [
    {
     "data": {
      "text/plain": [
       "array([[[1, 1],\n",
       "        [2, 0]],\n",
       "\n",
       "       [[2, 0],\n",
       "        [2, 0]],\n",
       "\n",
       "       [[2, 0],\n",
       "        [2, 0]]])"
      ]
     },
     "execution_count": 214,
     "metadata": {},
     "output_type": "execute_result"
    }
   ],
   "source": [
    "A = np.array([[2, 0], [1, 1]])\n",
    "B = np.array([[1, 0], [0, 0], [0, 0]])\n",
    "A[B]"
   ]
  },
  {
   "cell_type": "code",
   "execution_count": 189,
   "id": "oriental-finger",
   "metadata": {},
   "outputs": [
    {
     "data": {
      "text/plain": [
       "(200, 20, 25000)"
      ]
     },
     "execution_count": 189,
     "metadata": {},
     "output_type": "execute_result"
    }
   ],
   "source": [
    "(20, 25000)\n",
    "(200, 20)\n",
    "(200, 20, 25000)"
   ]
  },
  {
   "cell_type": "code",
   "execution_count": 211,
   "id": "devoted-consortium",
   "metadata": {},
   "outputs": [
    {
     "data": {
      "text/plain": [
       "array([[ 3, 15,  1, ..., 11,  8, 10],\n",
       "       [14,  2,  6, ...,  0, 14,  3],\n",
       "       [19,  5,  2, ...,  1,  5,  4],\n",
       "       ...,\n",
       "       [11,  3,  1, ...,  8,  6,  8],\n",
       "       [ 5,  0,  9, ...,  8,  9, 15],\n",
       "       [17,  8,  9, ...,  2, 16, 10]])"
      ]
     },
     "execution_count": 211,
     "metadata": {},
     "output_type": "execute_result"
    }
   ],
   "source": [
    "w.shape\n",
    "boot = np.random.choice(20, size=(200, 20))\n",
    "boot"
   ]
  },
  {
   "cell_type": "code",
   "execution_count": 208,
   "id": "russian-prophet",
   "metadata": {},
   "outputs": [
    {
     "data": {
      "text/plain": [
       "(200, 20)"
      ]
     },
     "execution_count": 208,
     "metadata": {},
     "output_type": "execute_result"
    }
   ],
   "source": [
    "boot.shape"
   ]
  },
  {
   "cell_type": "code",
   "execution_count": 209,
   "id": "guilty-johnston",
   "metadata": {},
   "outputs": [
    {
     "ename": "IndexError",
     "evalue": "index 25 is out of bounds for axis 0 with size 20",
     "output_type": "error",
     "traceback": [
      "\u001b[0;31m---------------------------------------------------------------------------\u001b[0m",
      "\u001b[0;31mIndexError\u001b[0m                                Traceback (most recent call last)",
      "\u001b[0;32m<ipython-input-209-4c7e70207138>\u001b[0m in \u001b[0;36m<module>\u001b[0;34m\u001b[0m\n\u001b[0;32m----> 1\u001b[0;31m \u001b[0mw\u001b[0m\u001b[0;34m[\u001b[0m\u001b[0mboot\u001b[0m\u001b[0;34m]\u001b[0m\u001b[0;34m\u001b[0m\u001b[0;34m\u001b[0m\u001b[0m\n\u001b[0m",
      "\u001b[0;31mIndexError\u001b[0m: index 25 is out of bounds for axis 0 with size 20"
     ]
    }
   ],
   "source": [
    "w[boot]"
   ]
  },
  {
   "cell_type": "code",
   "execution_count": 206,
   "id": "fundamental-huntington",
   "metadata": {},
   "outputs": [
    {
     "data": {
      "text/plain": [
       "(200, 20, 25000)"
      ]
     },
     "execution_count": 206,
     "metadata": {},
     "output_type": "execute_result"
    }
   ],
   "source": [
    "w[boot].shape"
   ]
  },
  {
   "cell_type": "code",
   "execution_count": null,
   "id": "tamil-valuation",
   "metadata": {},
   "outputs": [],
   "source": []
  }
 ],
 "metadata": {
  "kernelspec": {
   "display_name": "Python 3",
   "language": "python",
   "name": "python3"
  },
  "language_info": {
   "codemirror_mode": {
    "name": "ipython",
    "version": 3
   },
   "file_extension": ".py",
   "mimetype": "text/x-python",
   "name": "python",
   "nbconvert_exporter": "python",
   "pygments_lexer": "ipython3",
   "version": "3.9.5"
  }
 },
 "nbformat": 4,
 "nbformat_minor": 5
}
